{
 "cells": [
  {
   "cell_type": "code",
   "execution_count": 101,
   "metadata": {},
   "outputs": [
    {
     "data": {
      "text/plain": [
       "[['TGTGTGTGTGTGTGTGTGTGTGTGTGTGTGTGTGTGTGTGTGTGTGTGTGTGTGTGTGTGTGTGTGTGTGTGTGTGTGTGTGTGTGTGTGTGTGTGTG',\n",
       "  9,\n",
       "  49]]"
      ]
     },
     "execution_count": 101,
     "metadata": {},
     "output_type": "execute_result"
    }
   ],
   "source": [
    "# detect STR in the reference first\n",
    "with open('ref_practice_W_3_chr_1.txt','r') as f:\n",
    "    f.readline() # skip the first line\n",
    "    ref=''\n",
    "    for line in f:\n",
    "        ref=ref+line.strip()\n",
    "ref='GCTGTCCATTGTGTGTGTGTGTGTGTGTGTGTGTGTGTGTGTGTGTGTGTGTGTGTGTGTGTGTGTGTGTGTGTGTGTGTGTGTGTGTGTGTGTGTGTGTGTGTGTGAGCTGTTTA'\n",
    "STRlist=[]\n",
    "i=0\n",
    "potentialSTR=''\n",
    "for k in range(2,7):\n",
    "    i=0\n",
    "    while i<len(ref):\n",
    "        potentialSTR=ref[i:i+k]\n",
    "        copynumber=0\n",
    "        if ref[i+k:i+6*k]==potentialSTR*5:\n",
    "            if k==4 and potentialSTR[0:2]==potentialSTR[2:4]:\n",
    "                i+=1\n",
    "                continue\n",
    "            if k==6 and potentialSTR[0:2]==potentialSTR[2:4]==potentialSTR[4:6]:\n",
    "                i+=1\n",
    "                continue\n",
    "            if k==6 and potentialSTR[0:3]==potentialSTR[3:6]:\n",
    "                i+=1\n",
    "                continue\n",
    "            copynumber=6\n",
    "            j=i+6*k\n",
    "            while True:\n",
    "                if ref[j:j+k]==potentialSTR:\n",
    "                    copynumber+=1\n",
    "                    j+=k\n",
    "                else:\n",
    "                    STRlist.append([potentialSTR*copynumber,i,copynumber])\n",
    "                    break\n",
    "            i=i+k*copynumber+1  \n",
    "        else:\n",
    "            i+=1\n",
    "STRlist"
   ]
  },
  {
   "cell_type": "code",
   "execution_count": 95,
   "metadata": {},
   "outputs": [
    {
     "data": {
      "text/plain": [
       "[['STR', 'GATGATGATGATGATGAT', 1787, 6],\n",
       " ['STR',\n",
       "  'ATTTGATTTGATTTGATTTGATTTGATTTGATTTGATTTGATTTGATTTGATTTGATTTGATTTGATTTGATTTGATTTGATTTGATTTGATTTG',\n",
       "  2286,\n",
       "  19],\n",
       " ['STR', 'GCGCAGCGCAGCGCAGCGCAGCGCAGCGCAGCGCAGCGCAGCGCAGCGCAGCGCA', 6085, 11],\n",
       " ['STR', 'CAACAACAACAACAACAACAACAACAACAACAA', 9561, 11]]"
      ]
     },
     "execution_count": 95,
     "metadata": {},
     "output_type": "execute_result"
    }
   ],
   "source": [
    "#determine the copy number of STR: Can only determine total length <44 say. (read length =50, and need 3 nucleaotdies at both ends)\n",
    "# collect all reads that aligned 3-20 nucleotides before 9561. \n",
    "#determine the STR for each read, and take the longest one. \n",
    "import pickle\n",
    "(aligned_reads, alignments)=pickle.load(open('practice_W_3aligned_reads_and_coordinates','rb'))\n",
    "STRinRef=pickle.load(open('practice_W_3_STR','rb'))\n",
    "def determine_STR_inRef(ref):\n",
    "    STRlist=[]\n",
    "    i=0\n",
    "    potentialSTR=''\n",
    "    for k in range(2,7):\n",
    "        i=0\n",
    "        while i<len(ref):\n",
    "            potentialSTR=ref[i:i+k]\n",
    "            copynumber=0\n",
    "            if ref[i+k:i+6*k]==potentialSTR*5:\n",
    "                copynumber=6\n",
    "                j=i+6*k\n",
    "                while True:\n",
    "                    if ref[j:j+k]==potentialSTR:\n",
    "                        copynumber+=1\n",
    "                        j+=k\n",
    "                    else:\n",
    "                        STRlist.append(['STR',potentialSTR*copynumber,i,copynumber])\n",
    "                        break\n",
    "                i=i+k*copynumber+1  \n",
    "            else:\n",
    "                i+=1\n",
    "    STRlist = sorted(STRlist, key=lambda STR: STR[-2])\n",
    "    return STRlist\n",
    "\n",
    "def determine_STR(STRinRef, aligned_reads, alignments):\n",
    "    import numpy as np\n",
    "    STRlist=[]\n",
    "    for STR in STRinRef:\n",
    "        if len(STR[1])<44:\n",
    "            reads=[]\n",
    "            for i in range(len(alignments)):\n",
    "                if STR[2]-20<alignments[i][0] <STR[2]-5:\n",
    "                    reads.append(aligned_reads[i][0])\n",
    "                if STR[2]-20<alignments[i][1] <STR[2]-5:\n",
    "                    reads.append(aligned_reads[i][1])\n",
    "            copynumber=[]\n",
    "            STRunit=''\n",
    "            for read in reads:\n",
    "                L=determine_STR_inRef(read)\n",
    "                if len(L)>0:\n",
    "                    copynumber.append(L[0][-1])\n",
    "                    unitlength=int(len(L[0][-3])/L[0][-1])\n",
    "                    STRunit=L[0][-3][0:unitlength]\n",
    "            cn=np.array(copynumber)\n",
    "            determined_copynumber=cn.max()\n",
    "            STRlist.append(['STR',STRunit*determined_copynumber,STR[2],determined_copynumber])\n",
    "        else:\n",
    "            STRlist.append(STR)\n",
    "    return STRlist\n",
    "determine_STR(STRinRef,aligned_reads, alignments)\n",
    "#STRinRef\n",
    "#determine_STR_inRef(read)"
   ]
  },
  {
   "cell_type": "code",
   "execution_count": null,
   "metadata": {
    "collapsed": true
   },
   "outputs": [],
   "source": []
  }
 ],
 "metadata": {
  "kernelspec": {
   "display_name": "Python 3",
   "language": "python",
   "name": "python3"
  },
  "language_info": {
   "codemirror_mode": {
    "name": "ipython",
    "version": 3
   },
   "file_extension": ".py",
   "mimetype": "text/x-python",
   "name": "python",
   "nbconvert_exporter": "python",
   "pygments_lexer": "ipython3",
   "version": "3.6.3"
  }
 },
 "nbformat": 4,
 "nbformat_minor": 2
}
