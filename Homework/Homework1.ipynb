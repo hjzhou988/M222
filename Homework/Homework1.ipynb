{
 "cells": [
  {
   "cell_type": "code",
   "execution_count": null,
   "metadata": {
    "collapsed": true
   },
   "outputs": [],
   "source": [
    "#problem 1\n",
    "\n",
    "s[a:b+1]\n",
    "s[c:d+1]"
   ]
  },
  {
   "cell_type": "code",
   "execution_count": null,
   "metadata": {
    "collapsed": true
   },
   "outputs": [],
   "source": [
    "#problem 2\n",
    "\n",
    "with open(\"file\",'r') as f, open(\"output\",'w') as o:\n",
    "    for line in f:\n",
    "        next(f)\n",
    "        o.write(line)\n",
    "\n",
    "        "
   ]
  },
  {
   "cell_type": "code",
   "execution_count": 5,
   "metadata": {},
   "outputs": [
    {
     "name": "stdout",
     "output_type": "stream",
     "text": [
      "We 1\n",
      "tried 3\n",
      "list 1\n",
      "and 1\n",
      "we 2\n",
      "dicts 1\n",
      "also 1\n",
      "Zen 1\n"
     ]
    }
   ],
   "source": [
    "#problem 3\n",
    "d={}\n",
    "s=\"We tried list and we tried dicts also we tried Zen\"\n",
    "for word in s.split(\" \"):\n",
    "    if word not in d:\n",
    "        d[word]=1\n",
    "    else:\n",
    "        d[word]+=1\n",
    "for key, value in d.items():\n",
    "    print (\"%s %s\" %(key,value))\n",
    "\n"
   ]
  },
  {
   "cell_type": "code",
   "execution_count": 7,
   "metadata": {},
   "outputs": [
    {
     "name": "stdout",
     "output_type": "stream",
     "text": [
      "20 12 17 21\n"
     ]
    }
   ],
   "source": [
    "#problem 4\n",
    "s=\"AGCTTTTCATTCTGACTGCAACGGGCAATATGTCTCTGTGTGGATTAAAAAAAGAGTGTCTGATAGCAGC\"\n",
    "A=0\n",
    "T=0\n",
    "G=0\n",
    "C=0\n",
    "for a in s:\n",
    "    if a=='A':\n",
    "        A+=1\n",
    "    if a=='T':\n",
    "        T+=1\n",
    "    if a=='G':\n",
    "        G+=1\n",
    "    if a=='C':\n",
    "        C+=1\n",
    "print(\"%s %s %s %s\" %(A,C,G,T))"
   ]
  },
  {
   "cell_type": "code",
   "execution_count": 8,
   "metadata": {},
   "outputs": [
    {
     "name": "stdout",
     "output_type": "stream",
     "text": [
      "ACCGGGTTTT\n"
     ]
    }
   ],
   "source": [
    "#problem 5\n",
    "s=\"AAAACCCGGT\"\n",
    "sc=\"\"\n",
    "d={'A':'T','T':'A','G':'C','C':'G'}\n",
    "for a in s:\n",
    "    sc=d[a]+sc\n",
    "print(sc)"
   ]
  },
  {
   "cell_type": "code",
   "execution_count": 30,
   "metadata": {},
   "outputs": [
    {
     "data": {
      "text/plain": [
       "4"
      ]
     },
     "execution_count": 30,
     "metadata": {},
     "output_type": "execute_result"
    }
   ],
   "source": [
    "#problem 6\n",
    "n=3\n",
    "k=3\n",
    "G=[]\n",
    "M=[]\n",
    "#1\n",
    "G.append(1)\n",
    "M.append(0)\n",
    "\n",
    "#2\n",
    "G.append(0)\n",
    "M.append(G[0])\n",
    "\n",
    "\n",
    "'''\n",
    "#3\n",
    "G[2]=M[1]*k\n",
    "M[2]=M[1]+G[1]\n",
    "\n",
    "#4\n",
    "G[3]=M[2]*k\n",
    "M[3]=M[2]+G[2]\n",
    "\n",
    "#5\n",
    "G[4]=M[3]*k\n",
    "M[4]=M[3]+G[3]\n",
    "'''\n",
    "\n",
    "for i in range(3,n+1):\n",
    "    G.append(M[i-2]*k)\n",
    "    M.append(M[i-2]+G[i-2])\n",
    "\n",
    "G[n-1]+M[n-1]\n",
    "        "
   ]
  },
  {
   "cell_type": "code",
   "execution_count": 24,
   "metadata": {},
   "outputs": [
    {
     "name": "stdout",
     "output_type": "stream",
     "text": [
      "Rosalind_0808\n",
      "60.91954022988506\n"
     ]
    }
   ],
   "source": [
    "#problem 7\n",
    "d={}\n",
    "def GCcont(s):\n",
    "    GCcount=0\n",
    "    for a in s:\n",
    "        if a=='G' or a=='C':\n",
    "            GCcount+=1\n",
    "    return GCcount/len(s)\n",
    "with open(\"fasta.txt\",'r') as f:\n",
    "    s='A' #dummy string S for the very beginning\n",
    "    key='A'#dummy key for the very beginning\n",
    "    for line in f:\n",
    "        if line[0]=='>':\n",
    "            d[key]=GCcont(s)\n",
    "            key=line[1:-1]\n",
    "            d[key]=0  #initialize a dictionary key with GC content 0\n",
    "            s=''#start an empty string\n",
    "        else:\n",
    "            s=s+line.strip()\n",
    "    d[key]=GCcont(s) #GC content for the last sequence\n",
    "maxGC=0\n",
    "maxkey=''\n",
    "for key,value in d.items():\n",
    "    if value>maxGC:\n",
    "        maxGC=value\n",
    "        maxkey=key\n",
    "print(maxkey)\n",
    "print(maxGC*100)\n",
    "\n"
   ]
  },
  {
   "cell_type": "code",
   "execution_count": 26,
   "metadata": {},
   "outputs": [
    {
     "data": {
      "text/plain": [
       "7"
      ]
     },
     "execution_count": 26,
     "metadata": {},
     "output_type": "execute_result"
    }
   ],
   "source": [
    "#problem 8\n",
    "s='GAGCCTACTAACGGGAT'\n",
    "t='CATCGTAATGACGGCCT'\n",
    "def dH(s,t):\n",
    "    d=0 #initialize distance =0\n",
    "    for i in range(0,len(s)):\n",
    "        if s[i] != t[i]:\n",
    "            d+=1\n",
    "    return d\n",
    "dH(s,t)"
   ]
  },
  {
   "cell_type": "code",
   "execution_count": 29,
   "metadata": {},
   "outputs": [
    {
     "data": {
      "text/plain": [
       "0.7833333333333333"
      ]
     },
     "execution_count": 29,
     "metadata": {},
     "output_type": "execute_result"
    }
   ],
   "source": [
    "#problem 9\n",
    "#k,m,n\n",
    "def comb(n,r):\n",
    "    import math\n",
    "    return math.factorial(n)//math.factorial(r)//math.factorial(n-r)\n",
    "k=2\n",
    "m=2\n",
    "n=2\n",
    "#dom,dom\n",
    "p1=comb(k,2)/comb(k+m+n,2)\n",
    "\n",
    "#dom, het\n",
    "p2=k*m/comb(k+m+n,2)\n",
    "\n",
    "#dom, rec\n",
    "p3=k*n/comb(k+m+n,2)\n",
    "\n",
    "#het,rec\n",
    "p4=m*n/comb(k+m+n,2)*0.5\n",
    "\n",
    "#het,het\n",
    "p5=comb(m,2)/comb(k+m+n,2)*0.75\n",
    "\n",
    "#rec,rec\n",
    "p6=0\n",
    "\n",
    "p1+p2+p3+p4+p5+p6\n"
   ]
  },
  {
   "cell_type": "code",
   "execution_count": null,
   "metadata": {
    "collapsed": true
   },
   "outputs": [],
   "source": [
    "#problem 10\n",
    "\n",
    "#n months, can live for m months\n",
    "\n",
    "G=[] #growing rabbit\n",
    "M=[] #mature rabbit\n",
    "O=[]#old rabbit\n",
    "\n",
    "#1\n",
    "G.append(1)\n",
    "M.append(0)\n",
    "O.append(0)\n",
    "\n",
    "for i in range()\n"
   ]
  }
 ],
 "metadata": {
  "kernelspec": {
   "display_name": "Python 3",
   "language": "python",
   "name": "python3"
  },
  "language_info": {
   "codemirror_mode": {
    "name": "ipython",
    "version": 3
   },
   "file_extension": ".py",
   "mimetype": "text/x-python",
   "name": "python",
   "nbconvert_exporter": "python",
   "pygments_lexer": "ipython3",
   "version": "3.6.3"
  }
 },
 "nbformat": 4,
 "nbformat_minor": 2
}
