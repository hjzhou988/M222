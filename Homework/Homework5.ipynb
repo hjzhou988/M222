{
 "cells": [
  {
   "cell_type": "code",
   "execution_count": 45,
   "metadata": {},
   "outputs": [
    {
     "data": {
      "text/plain": [
       "'GGTGTCGCTATAATGTTCTGGACGCTATTCGCTGCGACGAGTACCTAAGCTTCTAAAGAAGACAATAGTTGGTAAATAAGCTGTGGTCCTTGTACGTTGCATCACAGTGGATTTAAGTGGGGTTGTGGTTCGTCCCCTGTTTTGAAGATCTTTTTTTAGACTATTTGGGGCCAGAGTATCCCAAGGCTACTTGTCAAACTGAGTCAGGCTGTCTGAAGTTAAAACGGAATCGATAAACAAGGACCTATTTAACGCGCTACCCAAACGATTCAAGGGGCTCGCATGCTTGGGAGATGCGCTCGGTACCTTTGATGATACCCGTAGAACGGAGAGGTTGTGCGAGCCCCTCCCACCCACGAACGTACCCTTCACATAGGTCATAGGTATATCGCCAGCTGCTTTTCAATTACGGCAAACGCGCCAGACGGTTCATTGGAGGTTCCGTGGCTACTCTGCTTGCCCCTGGGTGGAGGGCGCCCTCGAGGTCATGGCTGCCCCCGTCGCGTCACCGAGGTTTCGAGACATCGTACCCGTCATGTTATACGTGCGGATTGTTGTTAACCGCATAG'"
      ]
     },
     "execution_count": 45,
     "metadata": {},
     "output_type": "execute_result"
    }
   ],
   "source": [
    "# problem 33 find longest subsequence of two sequences\n",
    "with open('rosalind_ba5c.txt','r') as f:\n",
    "    s1=f.readline().strip()\n",
    "    s2=f.readline().strip()\n",
    "\n",
    "#build a alignment matrix\n",
    "import numpy as np\n",
    "\n",
    "AM=np.zeros((len(s1)+1,len(s2)+1)) #Alignment matrix. start from 0 position\n",
    "PM=np.zeros((len(s1),len(s2))) # Pointer matrix. right: 2, down: 1, diaganol: 0\n",
    "for i in range(1,len(s1)+1):\n",
    "    for j in range(1,len(s2)+1):\n",
    "        if s1[i-1]==s2[j-1]:\n",
    "            L=[AM[i-1,j],\\\n",
    "               AM[i,j-1],\\\n",
    "               AM[i-1,j-1]+ 1]\n",
    "        else:\n",
    "            L=[AM[i-1,j],\\\n",
    "               AM[i,j-1]]\n",
    "        AM[i,j]=max(L)\n",
    "        if L.index(AM[i,j])==0: # down pointer\n",
    "            PM[i-1,j-1]=1\n",
    "        elif L.index(AM[i,j])==1: # right pointer\n",
    "            PM[i-1,j-1]=2\n",
    "        elif L.index(AM[i,j])==2: # diagonal pointer\n",
    "            PM[i-1,j-1]=0\n",
    "        \n",
    "\n",
    "def backtrack(i,j,r,PM):\n",
    "    while i>=0 and j>=0:\n",
    "        if PM[i,j]==0:\n",
    "            r.append(0)\n",
    "            i=i-1\n",
    "            j=j-1\n",
    "        elif PM[i,j]==1:\n",
    "            r.append(1)\n",
    "            i=i-1\n",
    "        elif PM[i,j]==2:\n",
    "            r.append(2)\n",
    "            j=j-1\n",
    "Route=[]\n",
    "backtrack(len(s1)-1,len(s2)-1,Route, PM)\n",
    "LCS=''\n",
    "i=len(s2)-1\n",
    "for e in Route:\n",
    "    if e==0:# match\n",
    "        LCS=s2[i]+LCS\n",
    "        i=i-1\n",
    "    elif e==1: # down\n",
    "        pass\n",
    "    elif e==2:\n",
    "        i=i-1\n",
    "LCS\n",
    "\n",
    "        \n",
    "\n"
   ]
  },
  {
   "cell_type": "code",
   "execution_count": 61,
   "metadata": {},
   "outputs": [
    {
     "data": {
      "text/plain": [
       "781"
      ]
     },
     "execution_count": 61,
     "metadata": {},
     "output_type": "execute_result"
    }
   ],
   "source": [
    "#problem 34 \n",
    "with open('rosalind_ba5a.txt','r') as f:\n",
    "    m=int(f.readline().strip())\n",
    "    coins=f.readline().strip().split(',')\n",
    "    coins=[int(i) for i in coins]\n",
    "    \n",
    "    \n",
    "d={} \n",
    "for coin in coins: #initialize the table with coins\n",
    "    d[coin]=1  \n",
    "\n",
    "for money in range(1,m+1):\n",
    "    L=[]\n",
    "    for coin in coins:\n",
    "        if money-coin>0:\n",
    "            L.append(d[money-coin]+1)\n",
    "        elif money-coin==0:\n",
    "            L.append(1)\n",
    "    if L==[]:\n",
    "        continue\n",
    "    else:\n",
    "        d[money]=min(L)\n",
    "d[m]\n",
    "            "
   ]
  },
  {
   "cell_type": "code",
   "execution_count": 67,
   "metadata": {},
   "outputs": [
    {
     "data": {
      "text/plain": [
       "1951"
      ]
     },
     "execution_count": 67,
     "metadata": {},
     "output_type": "execute_result"
    }
   ],
   "source": [
    "#problem 35\n",
    "with open('rosalind_ba5g.txt','r') as f:\n",
    "    s1=f.readline().strip()\n",
    "    s2=f.readline().strip()\n",
    "\n",
    "#build a alignment matrix\n",
    "import numpy as np\n",
    "AM=np.zeros((len(s1)+1,len(s2)+1), dtype=int) #Alignment matrix. start from 0 position\n",
    "for i in range(len(s1)+1):# initialize the first column and first row\n",
    "    AM[i,0]=i\n",
    "for j in range(len(s2)+1):\n",
    "    AM[0,j]=j\n",
    "    \n",
    "for i in range(1,len(s1)+1):\n",
    "    for j in range(1,len(s2)+1):\n",
    "        if s1[i-1]==s2[j-1]:\n",
    "            L=[AM[i-1,j]+1,\\\n",
    "               AM[i,j-1]+1,\\\n",
    "               AM[i-1,j-1]]\n",
    "        else:\n",
    "            L=[AM[i-1,j]+1,\\\n",
    "               AM[i,j-1]+1,\\\n",
    "               AM[i-1,j-1]+1]\n",
    "        AM[i,j]=min(L)\n",
    "AM[len(s1),len(s2)]"
   ]
  },
  {
   "cell_type": "code",
   "execution_count": 25,
   "metadata": {},
   "outputs": [
    {
     "name": "stdout",
     "output_type": "stream",
     "text": [
      "1423\n",
      "KDKLPMVWHMCHTLRHLIDRILSTDSWTCFVYIEFIFPAMDHLMRKVEANNLDYYIQKIAERCCNAIIQGKAEHQWEMRRAHICQNQCIHFEKQIHNTAMNIWVTDLMFPQDGMEFTHKIMASHMSSNQKGFGGHKDVGIAIQEFGMCLECKYCMQTSGHNAGWWAIIHCSQVTHNSMPWCSIPHRMSYPNFHYAGPKRKWRNTWQPWGYLYFQNAYYTEMEYNTRRCRGLMWEHACICEQSYLFKHVGETMPQMRCHINFSNSQERNFTATTAISTFSEMVSWNCNPRKCKWPAVYYSVNLPIPWGLYEYHIVKSIQLRETRIPGICHFHMFTNRGTHYCEYPHIKITKEDPPMACAKKAIKFPNADWWYTNVWPPRMRTFSCQRCWQVLMASWSHQDHLQSQMPKQYKYIYCHYMMESFQDFTLIKDAHYQRSHVFPGFSGERDVQIHATQWSCFVNRFWGPPGPHERSYIPGIWANNPFLIMKMWGDWQLQSGSAKRQPKEGCWYDRKYQIVNRFERGDRSMMWNLERTFTVYEDWINKYSMPEYYAEMQMQVIEWWDRMHYDYTECSQTQHIVTMFITSVHLHMVAFSQPADRCHQDKIVTDGPVTKVCFFQSKKEECSQWNPDVNGGGSNIMCHFGYTYCLFRLEIIIPITMCPAYSHEYSRQESNIMHAHLGEGRANVAKLERFKMEDTRGEDIWIIVIKDVNCLGRFNRFIHLWMVTLADPFVSDVMIWNEVSIWLDICSLTAMMMGGLLTAMDHMRQHVRQCAPHYKYLAPAHFAGSISYWKEYDRIDTITWTDNCFSVLWPPGDVIMLHMIAGKWHRDNTIGVNKATNNDENRCWEQRPIRKEDSGECMKHFL NNDVTMAENCFAMAAYANMLQSNDPQGMYSAECYTRHMGPGVAMVMWRDVFMPKTWPYYRPNDYYEIQEKKWACERKGQILYDLGYVCMPDVMMREYIIVLATVGTIRTQEQGVSVQLKKIAVVEHQPQIFDIVHLLKQRFAYLGQLNEKSCNARDTTGKSWVCFNAFMPQMGCVDLNNIIDDFIMVIKQWPRHNPQIVLGAQGVARYQESYWPWPFQLTFGCHIGETMQMRCHINFSNMQEMPITTAISTFSEVSWNCNPRKCKYPAVYVSVNLPIPWGLYEYHIVKSIYLRETRIPGICHFHMFTSFRVQRGTHYCEYAHIQITKEDGPVKCPNADWWYTNFWPRRMRTFSCQRCWQHQDHLKYIYCHYMMESFQDFKPILQSLYKDAMYQRMHFPGFSGERDVVIHPTQWSCFQTAFSFHNRFWGYGIWANNHWTLCAYHFVIMKMWGNSDWNWQHQSGDAKRCDYDTWEDIVDCYQIVNRFERGMESCACTQWIYEAWCSRALTFTVYEDWINKPSMPEYYAEMQMQVIEWWDRMWPMNDYQTQHIVTVSCGCMFITSVHLHMVAFSHPADTCTMDELLSQHIGGIFKMEWWSGNFDTRNDWLAKEYRYLAVKPPHWCYWFCQRIMWWINKYSKYRSQKGVTPEVHQCMLPKTQTNRTFMVQRNNANRMLNCSDWISMFPVIRCGIFTPGFFKTWHSQWPSMHSHLALQNEFMTCQTGWQPGRCKFRMAIALRQYEHDLYKQCVMNINYFEVDTLWAPLVWYGYPNHRCQKSYNWSTFHRLMGKLVLIDRIISSNAPSNQYVFDHSNLQDLEPASPMWEMRALCDDPGCQWSKEGYM\n"
     ]
    }
   ],
   "source": [
    "#problem 36\n",
    "import pandas as pd\n",
    "import numpy as np\n",
    "L=[]\n",
    "s=''\n",
    "with open('rosalind_loca.txt','r') as f:\n",
    "    name=f.readline().strip()[1:]\n",
    "\n",
    "    for line in f:\n",
    "        if line[0]=='>':\n",
    "            L.append(s)\n",
    "            s=''#start an empty string\n",
    "            name=line.strip()[1:]\n",
    "        else:\n",
    "            s=s+line.strip()\n",
    "    L.append(s)\n",
    "PAM250=[]\n",
    "with open('PAM250.txt','r') as P:\n",
    "    col=P.readline().strip().split()\n",
    "    PAM250=[line.strip().split()[1:] for line in P]\n",
    "PAM250=[[int(i) for i in line] for line in PAM250]\n",
    "PAM250=pd.DataFrame(PAM250,columns=col)\n",
    "PAM250.index=col\n",
    "G=-5 #gap penalty\n",
    "\n",
    "#build a alignment matrix\n",
    "\n",
    "s1=L[0]\n",
    "s2=L[1]\n",
    "\n",
    "AM=np.zeros((len(s1)+1,len(s2)+1),dtype=int) #Alignment matrix. start from 0 position\n",
    "#for j in range(len(s2)+1):\n",
    "#    AM[0,j]=j*G\n",
    "#for i in range(len(s1)+1):\n",
    "#    AM[i,0]=i*G\n",
    "\n",
    "PM=np.zeros((len(s1),len(s2)),dtype=int) # Pointer matrix. right: 2, down: 1, diaganol: 0, start: 3\n",
    "\n",
    "for i in range(1,len(s1)+1):\n",
    "    for j in range(1,len(s2)+1):\n",
    "        L=[AM[i-1,j]+G,\\\n",
    "           AM[i,j-1]+G,\\\n",
    "           AM[i-1,j-1]+ PAM250.loc[s1[i-1],s2[j-1]],\\\n",
    "           0]\n",
    "        AM[i,j]=max(L)\n",
    "        if L.index(AM[i,j])==0: # down pointer\n",
    "            PM[i-1,j-1]=1\n",
    "        elif L.index(AM[i,j])==1: # right pointer\n",
    "            PM[i-1,j-1]=2\n",
    "        elif L.index(AM[i,j])==2: # diagonal pointer\n",
    "            PM[i-1,j-1]=0\n",
    "        elif L.index(AM[i,j])==3: # putative substring start position\n",
    "            PM[i-1,j-1]=3\n",
    "\n",
    "a=AM.max()\n",
    "print(a)\n",
    "AM.argmax()\n",
    "i,j=np.unravel_index(AM.argmax(), AM.shape) #location of max in AM\n",
    "def backtrack(i,j,r,PM):\n",
    "    while PM[i,j]!=3:\n",
    "        if PM[i,j]==0:\n",
    "            r.append(0)\n",
    "            i=i-1\n",
    "            j=j-1\n",
    "        elif PM[i,j]==1:\n",
    "            r.append(1)\n",
    "            i=i-1\n",
    "        elif PM[i,j]==2:\n",
    "            r.append(2)\n",
    "            j=j-1\n",
    "\n",
    "Route=[]\n",
    "backtrack(i-1,j-1,Route, PM)\n",
    "\n",
    "\n",
    "r=''#substring\n",
    "u=''#substring\n",
    "for e in Route:\n",
    "    if e==0:# match\n",
    "        r=s1[i-1]+r\n",
    "        u=s2[j-1]+u\n",
    "        i=i-1\n",
    "        j=j-1\n",
    "    elif e==1: # down\n",
    "        r=s1[i-1]+r\n",
    "        i=i-1\n",
    "    elif e==2: #right\n",
    "        u=s2[j-1]+u\n",
    "        j=j-1\n",
    "print(r,u)\n"
   ]
  },
  {
   "cell_type": "code",
   "execution_count": null,
   "metadata": {
    "collapsed": true
   },
   "outputs": [],
   "source": []
  },
  {
   "cell_type": "code",
   "execution_count": null,
   "metadata": {
    "collapsed": true
   },
   "outputs": [],
   "source": []
  }
 ],
 "metadata": {
  "kernelspec": {
   "display_name": "Python 3",
   "language": "python",
   "name": "python3"
  },
  "language_info": {
   "codemirror_mode": {
    "name": "ipython",
    "version": 3
   },
   "file_extension": ".py",
   "mimetype": "text/x-python",
   "name": "python",
   "nbconvert_exporter": "python",
   "pygments_lexer": "ipython3",
   "version": "3.6.3"
  }
 },
 "nbformat": 4,
 "nbformat_minor": 2
}
