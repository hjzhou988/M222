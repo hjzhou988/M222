{
 "cells": [
  {
   "cell_type": "code",
   "execution_count": 15,
   "metadata": {},
   "outputs": [
    {
     "name": "stdout",
     "output_type": "stream",
     "text": [
      "69 89 96 134 160 174 181 247 254 263 284 291 324 331 365 400 407 451 458 559 566 579 600 626 633 687 694 703 710 725 732 759 766 838 857 869 929 936\n"
     ]
    }
   ],
   "source": [
    "#problem 42\n",
    "with open('rosalind_ba9b.txt','r') as f:\n",
    "    text=f.readline().strip()\n",
    "    patterns=[]\n",
    "    for line in f:\n",
    "        patterns.append(line.strip())\n",
    "def buildtrie(patterns):\n",
    "    root={}\n",
    "    for pattern in patterns:\n",
    "        current_dict=root\n",
    "        for letter in pattern:\n",
    "            current_dict=current_dict.setdefault(letter,{})\n",
    "        current_dict['end']='end'\n",
    "    return root\n",
    "trie=buildtrie(patterns)\n",
    "def prefixTrieMatching(text,trie):\n",
    "    current_dict=trie\n",
    "    for letter in text:\n",
    "        if letter in current_dict:\n",
    "            current_dict=current_dict[letter]\n",
    "        else:\n",
    "            if 'end' in current_dict:\n",
    "                return True\n",
    "            else:\n",
    "                return False\n",
    "    else:\n",
    "        if 'end' in current_dict:\n",
    "            return True\n",
    "        else:\n",
    "            return False\n",
    "def TrieMatching(text,trie):\n",
    "    StartPoints=[]\n",
    "    for i in range(len(text)):\n",
    "        if prefixTrieMatching(text[i:],trie):\n",
    "            StartPoints.append(i)\n",
    "    return StartPoints\n",
    "print(*TrieMatching(text,trie))\n",
    "    "
   ]
  },
  {
   "cell_type": "code",
   "execution_count": 17,
   "metadata": {},
   "outputs": [
    {
     "data": {
      "text/plain": [
       "'CTGTCGAACTATTCATTTCCAATGAGCACCACCGGGCGTGGATGAGCGACTTCTGAGCTGGCTGGCACGTGGCCTTGTCACAGTCGCGCGCTTCCCATTGGCCTCCCGGCTTCTTCTATTTACGGGAGGCAGTCTGATTTAAACCTGGGATTCCGAGACTAACCATCTAAGGTCCACCGCGAGGCTGTACCCCCTTCTTGGGGCGTGCCGATTCTAAAGCCTCATTACAGCTTGTTTAATAGACGGCTCGTCGAGACCAACGTATGGCAGGTCCCTATACTCGGCTTAATGAGTCACTTTCCCTGTTGCTCAAAGCGCCGAGTTTATATTATAAGGAGGGGTCCGTAGCTCAAATACGCCTGGAAAACCTGCGGGTCCCAGGAGCGGGACTGCCGGGGACGAGTGTCGTATGGTAGCCTTTCGGACTAATATGGATGCACTGATGGGCCCCTGCATAACGAAAAATTAATTGTCCAGCAGTGCGATACAAAATTATTGTTCCCTAGAGGACCAAGGAGCTAGGACGCTTGGGAGCAACTAAGCCCTCCCCAGTAGTACGATAAAGAATCACATTAGTGCGGATCTAGACAAACTCTATTCGTGAATTCTTAGCACACTGGTCCTTTCTATCGCAGGACCCGTAGCATGCTCAGAGTCTAACGACGGCGTTGCTAGTACTCCGAACGTATTACAATGAATTGCCTAATACG$AGCTCTGATCCATAGTTCTCGAACGAAATCGCTCCGAGGCGAGTGCTTGGTCAATGCAACGGGCTTAGATGAGTAGCTATACATAACGACAACGTGGACCTCGCCGATTTACGATCCTCGGCAGGTGAGTCGC'"
      ]
     },
     "execution_count": 17,
     "metadata": {},
     "output_type": "execute_result"
    }
   ],
   "source": [
    "#problem 43 BWT\n",
    "def BWT(T):\n",
    "    s=[]\n",
    "    s.append(T)\n",
    "    for i in range(len(T)-1):\n",
    "        T=T[1:]+T[0]\n",
    "        s.append(T)\n",
    "    s=sorted(s)\n",
    "    transformed=''\n",
    "    for t in s:\n",
    "        transformed+=t[-1]\n",
    "    return transformed\n",
    "with open('rosalind_ba9i.txt','r') as f:\n",
    "    T=f.readline().strip()\n",
    "BWT(T)\n",
    "    "
   ]
  },
  {
   "cell_type": "code",
   "execution_count": 98,
   "metadata": {},
   "outputs": [
    {
     "data": {
      "text/plain": [
       "594390"
      ]
     },
     "execution_count": 98,
     "metadata": {},
     "output_type": "execute_result"
    }
   ],
   "source": [
    "#problem 44 \n",
    "RNA=''\n",
    "with open('rosalind_motz.txt','r') as f:\n",
    "    name=f.readline()\n",
    "    for line in f:\n",
    "        RNA+=line.strip()\n",
    "#A-U, C-G\n",
    "#M1, M2,M3,M4...\n",
    "#M1-2,M1-3,M1-4,M2-3,M2-4,M3-4.\n",
    "import numpy as np\n",
    "\n",
    "RNA\n",
    "length=len(RNA)\n",
    "'''\n",
    "matrix=np.zeros((length,length)) #  Motzkin number matrix\n",
    "for i in range(length): #initialize the diagonal\n",
    "    matrix[i,i]=1\n",
    "\n",
    "for i in range(length-1): # initialize the 2-mers. \n",
    "    matrix[i,i+1]= 2 if d[RNA[i]]==RNA[i+1] else 1\n",
    "M1=1\n",
    "M2=1 if \n",
    "  \n",
    "M2matrix=np.zeros((4,4))\n",
    "A,U,C,G=(0,1,2,3)\n",
    "d={A:U,U:A,C:G,G:C}\n",
    "for i in (0,1,2,3):\n",
    "    for j in (0,1,2,3):\n",
    "        M2matrix[i,j]=2 if d[i]==j else 1\n",
    "M2matrix\n",
    "'''  \n",
    "match={'A':'U','U':'A','C':'G','G':'C'}\n",
    "d={}\n",
    "\n",
    "#initialize one-mer and two-mers\n",
    "for l in 'AUCG':\n",
    "    d[l]=1\n",
    "for i in range(length-1):\n",
    "    if RNA[i:i+2] not in d:\n",
    "        d[RNA[i:i+2]]=1 if match[RNA[i]]!=RNA[i+1] else 2 \n",
    "for i in range(length-2):\n",
    "    if RNA[i]+RNA[i+2] not in d:\n",
    "        d[RNA[i]+RNA[i+2]]=1 if match[RNA[i]]!=RNA[i+2] else 2\n",
    "d['']=1\n",
    "'''\n",
    "for i in range(length-2):\n",
    "    if RNA[i:i+3] not in d:\n",
    "        summation=0\n",
    "        for j in range(1,3):\n",
    "            if match[RNA[i]]==RNA[i+j]:\n",
    "                summation+=d[RNA[i+1:j]]* d[RNA[i+j+1:]]\n",
    "        d[RNA[i:i+3]]=d[RNA[i+1:i+3]]+summation\n",
    "for i in range(length-3):\n",
    "    if RNA[i:i+4] not in d:\n",
    "        summation=0\n",
    "        for j in range(1,4):\n",
    "            if match[RNA[i]]==RNA[i+j]:\n",
    "                summation+=d[RNA[i+1:j]]* d[RNA[i+j+1:]]\n",
    "        d[RNA[i:i+4]]=d[RNA[i+1:i+4]]+summation\n",
    "'''\n",
    "for k in range(2,length):\n",
    "    for i in range(length-k):\n",
    "        if RNA[i:i+k+1] not in d:\n",
    "            summation=0\n",
    "            for j in range(1,k+1):\n",
    "                if match[RNA[i]]==RNA[i+j]:\n",
    "                    summation+=d[RNA[i+1:j]]* d[RNA[i+j+1:i+k+1]] #%1000000\n",
    "            d[RNA[i:i+k+1]]=(d[RNA[i+1:i+k+1]]+summation) #%1000000\n",
    "d[RNA]%1000000"
   ]
  },
  {
   "cell_type": "code",
   "execution_count": 51,
   "metadata": {},
   "outputs": [
    {
     "name": "stdout",
     "output_type": "stream",
     "text": [
      "2\n"
     ]
    }
   ],
   "source": [
    "summation=2\n",
    "print(summation)"
   ]
  },
  {
   "cell_type": "code",
   "execution_count": 67,
   "metadata": {},
   "outputs": [
    {
     "data": {
      "text/plain": [
       "2"
      ]
     },
     "execution_count": 67,
     "metadata": {},
     "output_type": "execute_result"
    }
   ],
   "source": [
    "1000002 % 1000000"
   ]
  },
  {
   "cell_type": "code",
   "execution_count": 92,
   "metadata": {
    "collapsed": true
   },
   "outputs": [],
   "source": [
    "RNA='AUA'"
   ]
  },
  {
   "cell_type": "code",
   "execution_count": 17,
   "metadata": {},
   "outputs": [
    {
     "data": {
      "text/plain": [
       "'GCGACAAAAGACACGTTCACGCAACCCGATTGGACAACAAATAGACATCGGCCCTATCCCGATCGTATCCATCAAGTATAAAAACAATGTTTTCAACTTATGCTCATGTACCACAGGAACCAAAAGATCTCTCCTACATCCGGTCATAGTCTGGCGTGTTGATGAAGAGAGGCTGAGACGCTTCGAGAACTCAGTAAATTGAAAGTAGATTAGACAGGTTTGGCAAAAGAATATTGGGCATAATGAATATAAGCAACCCGCTGTACCGACAGGCCGTAGAGCGTTTGACAGCACTTAGCGGTCGTTCCTCTCTACCTTCCTGCAGCGAACAATTCCATATTACCTATTGGAAATCGGCAGACCTCACTCTCGATAGTCCACCGAACCCGTCCCACAATAGCCTGCCTCCCCGAAGCTCGTTGTAGCCGATAGCCTGGGGCTCTTAACAGCGATTAACGATCTTTTGGTGTTTGCGGCATTCATTGTCAGGCTCCTCGGATTACTCTCCTTTTCGCGACTCTCAAACTAGTTCTTGACTCCGTGGAGGTGGAATCAGCTATTGCATCAGTTCACCTACTCCAACACACTTGCCTCCAGTGTTTGTAGGTTTGTCTTCGTACCGTACTGACTACAACGGTAAGTTGATAGGACTCGTGTGCGCTACGGTTGACCAAGACGGGATCTGCGCATTCAATTCATGGTCCCAAACAAGATGCCGTGTCACTTGCAGGGGAGATGAGGAACCCAGGGATACGAAGGTATACTGGGACGGGCGTCTATTGTATATTACGGGGTACCACTCTACGCCGCTCTGAGCTTCGAAGACTAACACCCACCAGCAGCGCCTGAAGGTAAATCCAGCTGCTGGGCCGTGTCCATAATTGCAGCTTCTATTGAAGCAACGTCACGGTGAAGGATCCACCGTCGGTCTTTGTCTATGTTTTGGTGAT$'"
      ]
     },
     "execution_count": 17,
     "metadata": {},
     "output_type": "execute_result"
    }
   ],
   "source": [
    "# reconstruct BWT\n",
    "import numpy as np\n",
    "with open('rosalind_ba9j.txt','r') as f:\n",
    "    BWT=f.readline().strip()\n",
    "def FirstColBWT(BWT): #build the first column of  BW transformation. return the first occurrence of each character \n",
    "    d={'$':0,'A':0,'C':0,'G':0,'T':0}\n",
    "    for s in BWT:\n",
    "        d[s]+=1\n",
    "    FstOcc={'$':0,'A':1,'C':1+d['A'],'G':1+d['A']+d['C'],'T':1+d['A']+d['C']+d['G']} #$,'A','C','G','T'\n",
    "    return FstOcc,d\n",
    "\n",
    "def counttable(BWT):# build the count table of BWT:\n",
    "    import numpy as np\n",
    "    L=len(BWT)\n",
    "    table=np.zeros((L+1,5),dtype=int)\n",
    "    d={'$':0,'A':1,'C':2,'G':3,'T':4}\n",
    "    count=np.array((0,0,0,0,0))\n",
    "    for i in range(L):\n",
    "        count[d[BWT[i]]]+=1\n",
    "        table[i+1]=count\n",
    "\n",
    "    return table\n",
    "\n",
    "def buildindex(T): #Build original index of T for BWT, which was sorted with the partial suffix array\n",
    "    suffixlist=[]\n",
    "    T=T+'$'\n",
    "    for i in range(len(T)):\n",
    "        suffixlist.append((T[i:],i))\n",
    "    sortedsuffix=sorted(suffixlist)\n",
    "    import pandas as pd\n",
    "    ss=pd.DataFrame(sortedsuffix)\n",
    "    index=ss.loc[:,1]\n",
    "    return index\n",
    "\n",
    "d={'$':0,'A':1,'C':2,'G':3,'T':4}\n",
    "table=counttable(BWT)\n",
    "FstOcc,numberofOccurrence=FirstColBWT(BWT)\n",
    "Recon='$'\n",
    "\n",
    "def LtoF(index): #return new index\n",
    "    occurrence=table[index+1,d[BWT[index]]]\n",
    "    return FstOcc[BWT[index]]+occurrence-1\n",
    "index=0\n",
    "while True :\n",
    "    if BWT[index]=='$':\n",
    "        break\n",
    "    Recon=BWT[index]+Recon\n",
    "    index=LtoF(index)\n",
    "\n",
    "Recon"
   ]
  },
  {
   "cell_type": "code",
   "execution_count": 79,
   "metadata": {},
   "outputs": [],
   "source": [
    "#problem 46\n",
    "\n",
    "with open('test.txt','r') as f:\n",
    "    k=int(f.readline().strip())\n",
    "    s=f.readline().strip()\n",
    "    t=f.readline().strip()\n",
    "\n",
    "    \n",
    "#build a alignment matrix\n",
    "def editD(s1,s2):\n",
    "    import numpy as np\n",
    "    AM=np.zeros((len(s1)+1,len(s2)+1), dtype=int) #Alignment matrix. start from 0 position\n",
    "    for i in range(len(s1)+1):# initialize the first column and first row\n",
    "        AM[i,0]=i\n",
    "    for j in range(len(s2)+1):\n",
    "        AM[0,j]=0\n",
    "    for i in range(1,len(s1)+1):\n",
    "        for j in range(1,len(s2)+1):\n",
    "            if s1[i-1]==s2[j-1]:\n",
    "                L=[AM[i-1,j]+1,\\\n",
    "                   AM[i,j-1]+1,\\\n",
    "                   AM[i-1,j-1]]\n",
    "            else:\n",
    "                L=[AM[i-1,j]+1,\\\n",
    "                   AM[i,j-1]+1,\\\n",
    "                   AM[i-1,j-1]+1]\n",
    "            #L.append(0)\n",
    "            AM[i,j]=min(L)\n",
    "    return AM#[len(s1),len(s2)]\n",
    "'''\n",
    "motifL=len(s)\n",
    "for i in range(len(t)-motifL+1):\n",
    "    matrix=editD(s,t[i:i+motifL+k])\n",
    "    array=matrix[-1:]\n",
    "    #print(array)\n",
    "    L=np.argwhere(array<=k)\n",
    "    if np.shape(L)[0]!=0:\n",
    "        print(i+1, L[:,1])\n",
    "'''\n",
    "\n",
    "matrix=editD(s,t)\n",
    "array=matrix[-1:]"
   ]
  },
  {
   "cell_type": "code",
   "execution_count": 80,
   "metadata": {},
   "outputs": [
    {
     "data": {
      "text/plain": [
       "'T'"
      ]
     },
     "execution_count": 80,
     "metadata": {},
     "output_type": "execute_result"
    }
   ],
   "source": [
    "t='ATT'\n",
    "t[2:5]"
   ]
  },
  {
   "cell_type": "code",
   "execution_count": 81,
   "metadata": {},
   "outputs": [
    {
     "data": {
      "text/plain": [
       "array([[0, 0, 0, 0, 0, 0, 0, 0, 0, 0, 0, 0, 0, 0, 0, 0, 0],\n",
       "       [1, 1, 0, 1, 1, 1, 0, 1, 1, 1, 1, 1, 0, 1, 1, 1, 1],\n",
       "       [2, 2, 1, 0, 1, 2, 1, 1, 1, 2, 2, 1, 1, 1, 1, 2, 2],\n",
       "       [3, 2, 2, 1, 0, 1, 2, 2, 2, 1, 2, 2, 2, 2, 2, 1, 2],\n",
       "       [4, 3, 3, 2, 1, 1, 2, 2, 3, 2, 2, 3, 3, 2, 3, 2, 1],\n",
       "       [5, 4, 3, 3, 2, 2, 1, 2, 3, 3, 3, 3, 3, 3, 3, 3, 2],\n",
       "       [6, 5, 4, 4, 3, 2, 2, 2, 3, 3, 3, 4, 4, 4, 4, 3, 3]])"
      ]
     },
     "execution_count": 81,
     "metadata": {},
     "output_type": "execute_result"
    }
   ],
   "source": [
    "np.argwhere(array<=2)\n",
    "len(s)-2\n",
    "matrix"
   ]
  },
  {
   "cell_type": "code",
   "execution_count": null,
   "metadata": {
    "collapsed": true
   },
   "outputs": [],
   "source": []
  }
 ],
 "metadata": {
  "kernelspec": {
   "display_name": "Python 3",
   "language": "python",
   "name": "python3"
  },
  "language_info": {
   "codemirror_mode": {
    "name": "ipython",
    "version": 3
   },
   "file_extension": ".py",
   "mimetype": "text/x-python",
   "name": "python",
   "nbconvert_exporter": "python",
   "pygments_lexer": "ipython3",
   "version": "3.6.3"
  }
 },
 "nbformat": 4,
 "nbformat_minor": 2
}
