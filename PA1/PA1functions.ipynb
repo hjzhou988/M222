{
 "cells": [
  {
   "cell_type": "code",
   "execution_count": 22,
   "metadata": {},
   "outputs": [
    {
     "data": {
      "text/plain": [
       "'GCT$TAA'"
      ]
     },
     "execution_count": 22,
     "metadata": {},
     "output_type": "execute_result"
    }
   ],
   "source": [
    "def BWT(T):#Burrows Wheeler transform of sequence T\n",
    "    T=T+'$'\n",
    "    s=[]\n",
    "    s.append(T)\n",
    "    for i in range(len(T)-1):\n",
    "        T=T[1:]+T[0]\n",
    "        s.append(T)\n",
    "    s=sorted(s)\n",
    "    transformed=''\n",
    "    for t in s:\n",
    "        transformed+=t[-1]\n",
    "    return transformed\n",
    "BWT(\"CATATG\")"
   ]
  },
  {
   "cell_type": "code",
   "execution_count": 59,
   "metadata": {},
   "outputs": [
    {
     "data": {
      "text/plain": [
       "([0, 1, 4, 5, 6], {'$': 1, 'A': 3, 'C': 1, 'G': 1, 'T': 2})"
      ]
     },
     "execution_count": 59,
     "metadata": {},
     "output_type": "execute_result"
    }
   ],
   "source": [
    "def invBWT(BWT): #inverse BW transformation  of sequence BWT. return the first occurrence of each character \n",
    "    d={'$':0,'A':0,'C':0,'G':0,'T':0}\n",
    "    for s in BWT:\n",
    "        d[s]+=1\n",
    "    FstOcc=[0,1,1+d['A'],1+d['A']+d['C'],1+d['A']+d['C']+d['G']] #$,'A','C','G','T'\n",
    "    return FstOcc,d\n",
    "invBWT('GCT$TAAA')"
   ]
  },
  {
   "cell_type": "code",
   "execution_count": 22,
   "metadata": {},
   "outputs": [
    {
     "data": {
      "text/plain": [
       "6"
      ]
     },
     "execution_count": 22,
     "metadata": {},
     "output_type": "execute_result"
    }
   ],
   "source": [
    "#build index of BWT:\n",
    "BWT='GCT$TAA'\n",
    "d={'$':0,'A':0,'C':0,'G':0,'T':0} # for calculating the nucleotide occurrence in BWT\n",
    "BWTplus=[] #BWT with occurance index\n",
    "for a in BWT:\n",
    "    d[a]+=1\n",
    "    BWTplus.append((a,d[a]))\n",
    "dic=invBWT(BWT)\n",
    " \n",
    "def LF(i,BWTplus,dic): #last to front function \n",
    "    if BWTplus[i-1][0]=='A': \n",
    "        return 1+ BWTplus[i-1][1]\n",
    "    if BWTplus[i-1][0]=='C': \n",
    "        return 1+ dic['A']+BWTplus[i-1][1]\n",
    "    if BWTplus[i-1][0]=='G': \n",
    "        return 1+ dic['A']+dic['C']+BWTplus[i-1][1]\n",
    "    if BWTplus[i-1][0]=='T': \n",
    "        return 1+ dic['A']+dic['C']+dic['G']+BWTplus[i-1][1]\n"
   ]
  },
  {
   "cell_type": "code",
   "execution_count": 58,
   "metadata": {},
   "outputs": [
    {
     "data": {
      "text/plain": [
       "array([[0, 0, 0, 0, 0],\n",
       "       [0, 0, 1, 0, 0],\n",
       "       [0, 0, 1, 0, 1],\n",
       "       [0, 0, 1, 0, 2],\n",
       "       [0, 0, 1, 1, 2],\n",
       "       [0, 0, 1, 1, 3],\n",
       "       [0, 1, 1, 1, 3]])"
      ]
     },
     "execution_count": 58,
     "metadata": {},
     "output_type": "execute_result"
    }
   ],
   "source": [
    "# build the count table of BWT:\n",
    "    \n",
    "def counttable(BWT):\n",
    "\n",
    "    import numpy as np\n",
    "    L=len(BWT)\n",
    "    table=np.zeros((L+1,5),dtype=int)\n",
    "    d={'$':0,'A':1,'C':2,'G':3,'T':4}\n",
    "    count=np.array((0,0,0,0,0))\n",
    "\n",
    "    for i in range(L):\n",
    "        count[d[BWT[i]]]+=1\n",
    "        table[i+1]=count\n",
    "\n",
    "    return table\n",
    "counttable('CTTGTA')"
   ]
  },
  {
   "cell_type": "code",
   "execution_count": 39,
   "metadata": {},
   "outputs": [
    {
     "data": {
      "text/plain": [
       "0     13\n",
       "1      5\n",
       "2      3\n",
       "3      1\n",
       "4      7\n",
       "5      9\n",
       "6     11\n",
       "7      6\n",
       "8      4\n",
       "9      2\n",
       "10     8\n",
       "11    10\n",
       "12     0\n",
       "13    12\n",
       "Name: 1, dtype: int64"
      ]
     },
     "execution_count": 39,
     "metadata": {},
     "output_type": "execute_result"
    }
   ],
   "source": [
    "#Build original index of T for BWT, which was sorted with the partial suffix array\n",
    "#Given T\n",
    "T='panamabananas'\n",
    "def buildindex(T):\n",
    "    suffixlist=[]\n",
    "    T=T+'$'\n",
    "    for i in range(len(T)):\n",
    "        suffixlist.append((T[i:],i))\n",
    "    sortedsuffix=sorted(suffixlist)\n",
    "    import pandas as pd\n",
    "    ss=pd.DataFrame(sortedsuffix)\n",
    "    index=ss.loc[:,1]\n",
    "    return index\n",
    "buildindex(T)"
   ]
  },
  {
   "cell_type": "code",
   "execution_count": 62,
   "metadata": {},
   "outputs": [
    {
     "name": "stdout",
     "output_type": "stream",
     "text": [
      "7\n",
      "6\n"
     ]
    }
   ],
   "source": [
    "# Given read, T,\n",
    "\n",
    "T=\"ACAACGTT\"\n",
    "bwt=BWT(T)\n",
    "FirstOcc,numOfNu=invBWT(bwt)\n",
    "count=counttable(bwt)\n",
    "read='T'\n",
    "d={'$':0,'A':1,'C':2,'G':3,'T':4} # symbol (nuleutide) mapping to index\n",
    "IND=buildindex(T)\n",
    "#initialize the top and bottom pointer\n",
    "index=d[read[-1]]\n",
    "top=FirstOcc[index]\n",
    "if index==4:\n",
    "    bottom=FirstOcc[index]+numOfNu['T']-1\n",
    "else:\n",
    "    bottom=FirstOcc[index+1]-1\n",
    "\n",
    "for i in range(1,len(read)):\n",
    "    index=d[read[-1-i]]\n",
    "    top=FirstOcc[index]+count[top,index]\n",
    "    bottom=FirstOcc[index]+count[bottom+1,index]-1\n",
    "\n",
    "if bottom >=top: # find matches\n",
    "    for i in range(top, bottom+1):\n",
    "        print(IND.loc[i])\n",
    "\n",
    "\n"
   ]
  },
  {
   "cell_type": "code",
   "execution_count": 71,
   "metadata": {},
   "outputs": [],
   "source": [
    "#use hash to do the mapping:\n",
    "#build hash table for T, Given length of read, allowing 3 mismatches\n",
    "T='AAGAGCAGGGGATCTCCCCCCTCCACAGTCTTAGTACCTCCTAATAATGGAGTGGGCTCTGATCAATGTGGGTTATAGACAGTGCGCACGCATATCAAAT'\n",
    "read='AAGAGCAGGGGATCTCCCCCCTCCACAGTCTTAGTACCTCCTAATAATGG'\n",
    "\n",
    "def buildhash(T):\n",
    "    k=12#len(read)//4\n",
    "    d={}\n",
    "    for i in range(len(T)-k+1):\n",
    "        kmer=T[i:i+k]\n",
    "        if kmer not in d:\n",
    "            d[kmer]=[i]\n",
    "        else:\n",
    "            d[kmer].append(i)\n",
    "    return d\n",
    "hashtable=buildhash(T)"
   ]
  },
  {
   "cell_type": "code",
   "execution_count": 88,
   "metadata": {},
   "outputs": [
    {
     "data": {
      "text/plain": [
       "([50], ['AAGAGCAGGGGATCTCCCCCCTCCACAGTCTTAGTACCTCCTAATAATGG'])"
      ]
     },
     "execution_count": 88,
     "metadata": {},
     "output_type": "execute_result"
    }
   ],
   "source": [
    "#map reads using the hash table\n",
    "T='AGTGGGCTCTGATCAATGTGGGTTATAGACAGTGCGCACGCATATCAAATAAGAGCAGGGGATCTCCCCCCTCCACAGTCTTAGTACCTCCTAATAATGG'\n",
    "read='AAGAGCAGGGGATCTCCCCCCTCCACAGTCTTAGTACCTCCTAATAATGG'\n",
    "k=12\n",
    "hashtable=buildhash(T)\n",
    "read_alignment_locations=[]\n",
    "output_read_pair=[]\n",
    "\n",
    "def hash_read_mapping(read,T,read_alignment_locations,output_read_pair):\n",
    "    def dH(s,t): # Hamming distance (if length of s and t are not equal, return -1)\n",
    "        if len(s)!=len(t):\n",
    "            return -1\n",
    "        d=0 #initialize distance =0\n",
    "        for i in range(0,len(s)):\n",
    "            if s[i] != t[i]:\n",
    "                d+=1\n",
    "        return d\n",
    "    r1=read[0:12]\n",
    "    r2=read[13:25]\n",
    "    r3=read[26:38]\n",
    "    r4=read[38:]\n",
    "    L=len(T)\n",
    "    if r1 in hashtable:\n",
    "        for i in hashtable[r1]:#compare read[12:]\n",
    "            d=dH(T[i+12:min(i+50,L)],read[12:])\n",
    "            if d>=0 and d<=3:\n",
    "                read_alignment_locations.append(i)\n",
    "                output_read_pair.append(read)\n",
    "    elif r2 in hashtable:\n",
    "        #compare read[0:13] and read[25:]\n",
    "        for i in hashtable[r2]:\n",
    "            d=dH(T[max(0,i-13):i+37],read)\n",
    "            if d>=0 and d<=3:\n",
    "                read_alignment_locations.append(i-13)\n",
    "                output_read_pair.append(read)\n",
    "    elif r3 in hashtable:\n",
    "        #compare read[0:26] and read[38:]\n",
    "        for i in hashtable[r3]:\n",
    "            d=dH(T[max(0,i-26):i+24],read)\n",
    "            if d>=0 and d<=3:\n",
    "                read_alignment_locations.append(i-26)\n",
    "                output_read_pair.append(read)\n",
    "    elif r4 in hashtable:\n",
    "        for i in hashtable[r4]:#compare read[0:38] \n",
    "            d=dH(T[max(0,i-38):i],read[0:38])\n",
    "            if d>=0 and d<=3:\n",
    "                read_alignment_locations.append(i-38)\n",
    "                output_read_pair.append(read)\n",
    "\n",
    "hash_read_mapping(read,T,read_alignment_locations,output_read_pair)\n",
    "read_alignment_locations,output_read_pair"
   ]
  },
  {
   "cell_type": "code",
   "execution_count": 91,
   "metadata": {},
   "outputs": [
    {
     "name": "stdout",
     "output_type": "stream",
     "text": [
      "<built-in method count of list object at 0x10b323048>\n"
     ]
    }
   ],
   "source": [
    "l=[2,1,4]\n",
    "print(l.count)"
   ]
  },
  {
   "cell_type": "code",
   "execution_count": null,
   "metadata": {
    "collapsed": true
   },
   "outputs": [],
   "source": []
  }
 ],
 "metadata": {
  "kernelspec": {
   "display_name": "Python 3",
   "language": "python",
   "name": "python3"
  },
  "language_info": {
   "codemirror_mode": {
    "name": "ipython",
    "version": 3
   },
   "file_extension": ".py",
   "mimetype": "text/x-python",
   "name": "python",
   "nbconvert_exporter": "python",
   "pygments_lexer": "ipython3",
   "version": "3.6.3"
  }
 },
 "nbformat": 4,
 "nbformat_minor": 2
}
